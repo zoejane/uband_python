{
 "cells": [
  {
   "cell_type": "markdown",
   "metadata": {},
   "source": [
    "# Day22 代码简洁 & Lambda & 异常"
   ]
  },
  {
   "cell_type": "markdown",
   "metadata": {},
   "source": [
    "## lamdba 函数\n",
    "\n",
    "- [Python3 filter() 函数 | 菜鸟教程](http://www.runoob.com/python3/python3-func-filter.html)"
   ]
  },
  {
   "cell_type": "code",
   "execution_count": 7,
   "metadata": {},
   "outputs": [
    {
     "name": "stdout",
     "output_type": "stream",
     "text": [
      "[1, 3, 5, 7, 9]\n"
     ]
    }
   ],
   "source": [
    "def is_odd(n):\n",
    "    return n % 2 == 1\n",
    "\n",
    "tmplist = filter(is_odd, [1, 2, 3, 4, 5, 6, 7, 8, 9, 10])\n",
    "newlist = list(tmplist)\n",
    "print(newlist)"
   ]
  },
  {
   "cell_type": "code",
   "execution_count": 5,
   "metadata": {},
   "outputs": [
    {
     "name": "stdout",
     "output_type": "stream",
     "text": [
      "[1, 3, 5, 7, 9]\n"
     ]
    }
   ],
   "source": [
    "tmplist = filter(lambda n: n % 2 == 1, [1, 2, 3, 4, 5, 6, 7, 8, 9, 10])\n",
    "newlist = list(tmplist)\n",
    "print(newlist)"
   ]
  },
  {
   "cell_type": "code",
   "execution_count": 12,
   "metadata": {},
   "outputs": [
    {
     "name": "stdout",
     "output_type": "stream",
     "text": [
      "[1, 4, 9, 16, 25, 36, 49, 64, 81, 100]\n"
     ]
    }
   ],
   "source": [
    "import math\n",
    "def is_sqr(x):\n",
    "    return math.sqrt(x) % 1 == 0\n",
    "\n",
    "tmplist = filter(is_sqr, range(1, 101))\n",
    "newlist = list(tmplist)\n",
    "print(newlist)"
   ]
  },
  {
   "cell_type": "code",
   "execution_count": 13,
   "metadata": {},
   "outputs": [
    {
     "name": "stdout",
     "output_type": "stream",
     "text": [
      "[1, 4, 9, 16, 25, 36, 49, 64, 81, 100]\n"
     ]
    }
   ],
   "source": [
    "import math\n",
    "\n",
    "tmplist = filter(lambda x: math.sqrt(x) % 1 == 0, range(1, 101))\n",
    "newlist = list(tmplist)\n",
    "print(newlist)"
   ]
  },
  {
   "cell_type": "markdown",
   "metadata": {},
   "source": [
    "## 异常处理\n",
    "\n",
    "- [Python3 错误和异常 | 菜鸟教程](http://www.runoob.com/python3/python3-errors-execptions.html)"
   ]
  },
  {
   "cell_type": "code",
   "execution_count": 15,
   "metadata": {},
   "outputs": [
    {
     "name": "stdout",
     "output_type": "stream",
     "text": [
      "result is 2.0\n",
      "executing finally clause\n",
      "result is 1.2\n",
      "executing finally clause\n",
      "division by zero!\n",
      "executing finally clause\n"
     ]
    }
   ],
   "source": [
    "def divide(x, y):\n",
    "    try:\n",
    "        result = x / y\n",
    "    except ZeroDivisionError:\n",
    "        print('division by zero!')\n",
    "    else:\n",
    "        print('result is', result)\n",
    "    finally:\n",
    "        print(\"executing finally clause\")\n",
    "            \n",
    "divide(6, 3)\n",
    "divide(6, 5)\n",
    "divide(6, 0)"
   ]
  },
  {
   "cell_type": "code",
   "execution_count": 18,
   "metadata": {},
   "outputs": [
    {
     "name": "stdout",
     "output_type": "stream",
     "text": [
      "except maybe happen\n",
      "except happen\n",
      "always execute\n"
     ]
    }
   ],
   "source": [
    "try:\n",
    "    print('except maybe happen')\n",
    "    open('file.txt', 'r+')\n",
    "except Exception as e:\n",
    "    print('except happen')\n",
    "finally:\n",
    "    print('always execute')"
   ]
  },
  {
   "cell_type": "markdown",
   "metadata": {},
   "source": [
    "## 变量命名\n",
    "\n",
    "- [styleguide/pyguide.md at gh-pages · google/styleguide](https://github.com/google/styleguide/blob/gh-pages/pyguide.md)\n",
    "    - `module_name`\n",
    "    - `package_name`\n",
    "    - `ClassName`\n",
    "    - `method_name`\n",
    "    - `ExceptionName`\n",
    "    - `function_name`\n",
    "    - `GLOBAL_CONSTANT_NAME`\n",
    "    - `global_var_name`\n",
    "    - `instance_var_name`\n",
    "    - `function_parameter_name`\n",
    "    - `local_var_name`"
   ]
  },
  {
   "cell_type": "markdown",
   "metadata": {},
   "source": [
    "## Day23 - 用 Python 处理 Excel"
   ]
  },
  {
   "cell_type": "code",
   "execution_count": 23,
   "metadata": {},
   "outputs": [
    {
     "name": "stdout",
     "output_type": "stream",
     "text": [
      "['team_info', 'matches']\n"
     ]
    }
   ],
   "source": [
    "from openpyxl import load_workbook\n",
    "\n",
    "# 读取 excel 文件\n",
    "workbook = load_workbook('worldcup_practice/fifa_world_cup.xlsx')\n",
    "# print(workbook.get_sheet_names())\n",
    "print(workbook.sheetnames)\n",
    "\n",
    "# 找到相应的 worksheet\n",
    "worksheet = workbook['team_info']\n",
    "\n",
    "# 找到对应国家所在的行\n",
    "column_name = worksheet['B']\n",
    "for cell in column_name:\n",
    "    if cell.value == 'Russia':\n",
    "        row_index = cell.row\n",
    "        worksheet['E' + str(row_index)] = 1\n",
    "    if cell.value == 'Saudi Arabia':\n",
    "        row_index = cell.row\n",
    "        cell_target = worksheet.cell(column = 7, row = row_index)\n",
    "        cell_target.value = 1\n",
    "\n",
    "# 保存文件\n",
    "workbook.save('worldcup_practice/fifa_world_cup.xlsx')"
   ]
  },
  {
   "cell_type": "code",
   "execution_count": null,
   "metadata": {},
   "outputs": [],
   "source": []
  }
 ],
 "metadata": {
  "kernelspec": {
   "display_name": "Python 3",
   "language": "python",
   "name": "python3"
  },
  "language_info": {
   "codemirror_mode": {
    "name": "ipython",
    "version": 3
   },
   "file_extension": ".py",
   "mimetype": "text/x-python",
   "name": "python",
   "nbconvert_exporter": "python",
   "pygments_lexer": "ipython3",
   "version": "3.6.0"
  }
 },
 "nbformat": 4,
 "nbformat_minor": 2
}
