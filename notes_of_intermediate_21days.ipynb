{
 "cells": [
  {
   "cell_type": "markdown",
   "metadata": {},
   "source": [
    "# Day22 代码简洁 & Lambda & 异常"
   ]
  },
  {
   "cell_type": "markdown",
   "metadata": {},
   "source": [
    "## lamdba 函数\n",
    "\n",
    "- [Python3 filter() 函数 | 菜鸟教程](http://www.runoob.com/python3/python3-func-filter.html)"
   ]
  },
  {
   "cell_type": "code",
   "execution_count": 7,
   "metadata": {},
   "outputs": [
    {
     "name": "stdout",
     "output_type": "stream",
     "text": [
      "[1, 3, 5, 7, 9]\n"
     ]
    }
   ],
   "source": [
    "def is_odd(n):\n",
    "    return n % 2 == 1\n",
    "\n",
    "tmplist = filter(is_odd, [1, 2, 3, 4, 5, 6, 7, 8, 9, 10])\n",
    "newlist = list(tmplist)\n",
    "print(newlist)"
   ]
  },
  {
   "cell_type": "code",
   "execution_count": 5,
   "metadata": {},
   "outputs": [
    {
     "name": "stdout",
     "output_type": "stream",
     "text": [
      "[1, 3, 5, 7, 9]\n"
     ]
    }
   ],
   "source": [
    "tmplist = filter(lambda n: n % 2 == 1, [1, 2, 3, 4, 5, 6, 7, 8, 9, 10])\n",
    "newlist = list(tmplist)\n",
    "print(newlist)"
   ]
  },
  {
   "cell_type": "code",
   "execution_count": 12,
   "metadata": {},
   "outputs": [
    {
     "name": "stdout",
     "output_type": "stream",
     "text": [
      "[1, 4, 9, 16, 25, 36, 49, 64, 81, 100]\n"
     ]
    }
   ],
   "source": [
    "import math\n",
    "def is_sqr(x):\n",
    "    return math.sqrt(x) % 1 == 0\n",
    "\n",
    "tmplist = filter(is_sqr, range(1, 101))\n",
    "newlist = list(tmplist)\n",
    "print(newlist)"
   ]
  },
  {
   "cell_type": "code",
   "execution_count": 13,
   "metadata": {},
   "outputs": [
    {
     "name": "stdout",
     "output_type": "stream",
     "text": [
      "[1, 4, 9, 16, 25, 36, 49, 64, 81, 100]\n"
     ]
    }
   ],
   "source": [
    "import math\n",
    "\n",
    "tmplist = filter(lambda x: math.sqrt(x) % 1 == 0, range(1, 101))\n",
    "newlist = list(tmplist)\n",
    "print(newlist)"
   ]
  },
  {
   "cell_type": "markdown",
   "metadata": {},
   "source": [
    "## 异常处理\n",
    "\n",
    "- [Python3 错误和异常 | 菜鸟教程](http://www.runoob.com/python3/python3-errors-execptions.html)"
   ]
  },
  {
   "cell_type": "code",
   "execution_count": 15,
   "metadata": {},
   "outputs": [
    {
     "name": "stdout",
     "output_type": "stream",
     "text": [
      "result is 2.0\n",
      "executing finally clause\n",
      "result is 1.2\n",
      "executing finally clause\n",
      "division by zero!\n",
      "executing finally clause\n"
     ]
    }
   ],
   "source": [
    "def divide(x, y):\n",
    "    try:\n",
    "        result = x / y\n",
    "    except ZeroDivisionError:\n",
    "        print('division by zero!')\n",
    "    else:\n",
    "        print('result is', result)\n",
    "    finally:\n",
    "        print(\"executing finally clause\")\n",
    "            \n",
    "divide(6, 3)\n",
    "divide(6, 5)\n",
    "divide(6, 0)"
   ]
  },
  {
   "cell_type": "code",
   "execution_count": 18,
   "metadata": {},
   "outputs": [
    {
     "name": "stdout",
     "output_type": "stream",
     "text": [
      "except maybe happen\n",
      "except happen\n",
      "always execute\n"
     ]
    }
   ],
   "source": [
    "try:\n",
    "    print('except maybe happen')\n",
    "    open('file.txt', 'r+')\n",
    "except Exception as e:\n",
    "    print('except happen')\n",
    "finally:\n",
    "    print('always execute')"
   ]
  },
  {
   "cell_type": "markdown",
   "metadata": {},
   "source": [
    "## 变量命名\n",
    "\n",
    "- [styleguide/pyguide.md at gh-pages · google/styleguide](https://github.com/google/styleguide/blob/gh-pages/pyguide.md)\n",
    "    - `module_name`\n",
    "    - `package_name`\n",
    "    - `ClassName`\n",
    "    - `method_name`\n",
    "    - `ExceptionName`\n",
    "    - `function_name`\n",
    "    - `GLOBAL_CONSTANT_NAME`\n",
    "    - `global_var_name`\n",
    "    - `instance_var_name`\n",
    "    - `function_parameter_name`\n",
    "    - `local_var_name`"
   ]
  },
  {
   "cell_type": "markdown",
   "metadata": {},
   "source": [
    "## Day23 - 用 Python 处理 Excel"
   ]
  },
  {
   "cell_type": "code",
   "execution_count": 23,
   "metadata": {},
   "outputs": [
    {
     "name": "stdout",
     "output_type": "stream",
     "text": [
      "['team_info', 'matches']\n"
     ]
    }
   ],
   "source": [
    "from openpyxl import load_workbook\n",
    "\n",
    "# 读取 excel 文件\n",
    "workbook = load_workbook('worldcup_practice/fifa_world_cup.xlsx')\n",
    "# print(workbook.get_sheet_names())\n",
    "print(workbook.sheetnames)\n",
    "\n",
    "# 找到相应的 worksheet\n",
    "worksheet = workbook['team_info']\n",
    "\n",
    "# 找到对应国家所在的行\n",
    "column_name = worksheet['B']\n",
    "for cell in column_name:\n",
    "    if cell.value == 'Russia':\n",
    "        row_index = cell.row\n",
    "        worksheet['E' + str(row_index)] = 1\n",
    "    if cell.value == 'Saudi Arabia':\n",
    "        row_index = cell.row\n",
    "        cell_target = worksheet.cell(column = 7, row = row_index)\n",
    "        cell_target.value = 1\n",
    "\n",
    "# 保存文件\n",
    "workbook.save('worldcup_practice/fifa_world_cup.xlsx')"
   ]
  },
  {
   "cell_type": "markdown",
   "metadata": {},
   "source": [
    "# Day24 - 面向对象编程"
   ]
  },
  {
   "cell_type": "code",
   "execution_count": 3,
   "metadata": {},
   "outputs": [
    {
     "name": "stdout",
     "output_type": "stream",
     "text": [
      "Cristiano Ronaldo\n",
      "Name: Manuel Neuer\n",
      "Cristiano Ronaldo shoots middle\n",
      "Manuel Neuer saves middle\n",
      "What a save!\n"
     ]
    }
   ],
   "source": [
    "# !usr/bin/env python3\n",
    "# -*- coding: utf-8 -*-\n",
    "\n",
    "import random\n",
    "\n",
    "class Shooter:\n",
    "\n",
    "    def __init__(self, name):\n",
    "        self.name = name\n",
    "\n",
    "    def display_name(self):\n",
    "        print(\"Name: %s\" % self.name)\n",
    "\n",
    "    def shoot(self):\n",
    "        flag = random.randint(0, 2)\n",
    "        if flag == 0:\n",
    "            direction = \"left\"\n",
    "        elif flag == 1:\n",
    "            direction = \"middle\"\n",
    "        else:\n",
    "            direction = \"right\"\n",
    "\n",
    "        print(\"%s shoots %s\" % (self.name, direction))\n",
    "        return direction\n",
    "\n",
    "\n",
    "class Goalkeeper:\n",
    "\n",
    "    def __init__(self, name):\n",
    "        self.name = name\n",
    "\n",
    "    def display_name(self):\n",
    "        print(\"Name: %s\" % self.name)\n",
    "\n",
    "    def save(self):\n",
    "        flag = random.randint(0, 2)\n",
    "        if flag == 0:\n",
    "            direction = \"left\"\n",
    "        elif flag == 1:\n",
    "            direction = \"middle\"\n",
    "        else:\n",
    "            direction = \"right\"\n",
    "\n",
    "        print(\"%s saves %s\" % (self.name, direction))\n",
    "        return direction\n",
    "\n",
    "kicker = Shooter(\"Cristiano Ronaldo\")\n",
    "keeper = Goalkeeper(\"Manuel Neuer\")\n",
    "print(kicker.name)\n",
    "keeper.display_name()\n",
    "if kicker.shoot() == keeper.save():\n",
    "    print(\"What a save!\")\n",
    "else:\n",
    "    print(\"What a goal!\")"
   ]
  },
  {
   "cell_type": "code",
   "execution_count": 32,
   "metadata": {},
   "outputs": [
    {
     "name": "stdout",
     "output_type": "stream",
     "text": [
      "Cristiano Ronaldo\n",
      "Name : Cristiano Ronaldo\n",
      "Cristiano Ronaldo shoots left side!\n",
      "Cristiano Ronaldo Total Shooter: 1\n",
      "Total Shooter: 1\n",
      "Cristiano Ronaldo shoots right side!\n",
      "Cristiano Ronaldo shoots left side!\n",
      "Cristiano Ronaldo Total Shooter: 3\n",
      "A shoots left side!\n",
      "A Total Shooter: 1\n",
      "Total Shooter: 4\n"
     ]
    }
   ],
   "source": [
    "# 类的名字\n",
    "class Shooter:\n",
    "    \n",
    "    # 类变量, 所有实例共享\n",
    "    shooter_count = 0\n",
    "    \n",
    "    # 构造函数(初始化方法),\n",
    "    # 可以初始化一些数据成员\n",
    "    def __init__(self, name):\n",
    "        self.name = name\n",
    "        self.count = 0\n",
    "        # Shooter.shooter_count += 1\n",
    "        \n",
    "    # 静态方法, 不需要实例就可以使用\n",
    "    @staticmethod\n",
    "    def display_shooter_count():\n",
    "        print(\"Total Shooter: %d\" % Shooter.shooter_count)\n",
    "     \n",
    "    # 类的方法, 有实例才能调用\n",
    "    def display_name(self):\n",
    "        print(\"Name :\", self.name)\n",
    "        \n",
    "    def shoot(self, direction):\n",
    "        print(\"%s shoots %s side!\" % (self.name, direction))\n",
    "        self.count += 1\n",
    "        Shooter.shooter_count += 1\n",
    "        \n",
    "    def display_count(self):\n",
    "        print(\"%s Total Shooter: %d\" % (self.name, self.count))\n",
    "        \n",
    "kicker = Shooter(\"Cristiano Ronaldo\")\n",
    "print(kicker.name)\n",
    "kicker.display_name()\n",
    "kicker.shoot(\"left\")\n",
    "kicker.display_count()\n",
    "Shooter.display_shooter_count()\n",
    "kicker.shoot(\"right\")\n",
    "kicker.shoot(\"left\")\n",
    "kicker.display_count()\n",
    "kicker_a = Shooter(\"A\")\n",
    "kicker_a.shoot(\"left\")\n",
    "kicker_a.display_count()\n",
    "Shooter.display_shooter_count()"
   ]
  },
  {
   "cell_type": "markdown",
   "metadata": {},
   "source": [
    "# Day25 - 装饰器装饰了你的窗子"
   ]
  },
  {
   "cell_type": "code",
   "execution_count": 28,
   "metadata": {},
   "outputs": [
    {
     "name": "stdout",
     "output_type": "stream",
     "text": [
      "hello, foo\n",
      "i am foo\n",
      "goodbye, foo\n"
     ]
    }
   ],
   "source": [
    "# 定义装饰器\n",
    "def hello(fn):\n",
    "    def wrapper():\n",
    "        print(\"hello, %s\" % fn.__name__)\n",
    "        fn()\n",
    "        print(\"goodbye, %s\" % fn.__name__)\n",
    "    # wrapper 不要加括号\n",
    "    return wrapper\n",
    "\n",
    "# 使用装饰器\n",
    "@hello\n",
    "# 被装饰的函数\n",
    "def foo():\n",
    "    print(\"i am foo\")\n",
    "    \n",
    "if __name__ == '__main__':\n",
    "    foo()"
   ]
  },
  {
   "cell_type": "code",
   "execution_count": 40,
   "metadata": {},
   "outputs": [
    {
     "name": "stdout",
     "output_type": "stream",
     "text": [
      "---------------------------------\n",
      "function sum start\n",
      " args =  (100,)\n",
      " kwargs =  {}\n",
      " result = 4950\n",
      " start_time = 2018-07-29 08:13:05.591306\n",
      " resume = 0.000012 sec\n",
      "function sum end\n",
      "---------------------------------\n",
      "---------------------------------\n",
      "function mul start\n",
      " args =  ()\n",
      " kwargs =  {}\n",
      " result = 933262154439441526816992388562667004907159682643816214685929638952175999932299156089414639761565182862536979208272237582511852109168640000000000000000000000\n",
      " start_time = 2018-07-29 08:13:05.592492\n",
      " resume = 0.000021 sec\n",
      "function mul end\n",
      "---------------------------------\n"
     ]
    }
   ],
   "source": [
    "import time\n",
    "from datetime import datetime\n",
    "\n",
    "def logger(fn):\n",
    "    # *args 不可变参数 必须传递\n",
    "    # **kwargs 可变参数 定义了 default 值 比如 n=100\n",
    "    def wrapper(*args, **kwargs):\n",
    "        print('---------------------------------')\n",
    "        print('function %s start' %(fn.__name__))\n",
    "        t_start = time.time()\n",
    "        result = fn(*args, **kwargs)\n",
    "        t_end = time.time()\n",
    "        print(' args = ', args)\n",
    "        print(' kwargs = ', kwargs)\n",
    "        print(' result = %s' % (result))\n",
    "        print(' start_time = %s' % str(datetime.now()))\n",
    "        print(' resume = %.6f sec' % (t_end - t_start))\n",
    "        print('function %s end' %(fn.__name__))\n",
    "        print('---------------------------------')        \n",
    "        return result\n",
    "    return wrapper\n",
    "\n",
    "@logger\n",
    "def sum(n):\n",
    "    sum = 0\n",
    "    for i in range(1, n):\n",
    "        sum = sum + i\n",
    "    return sum\n",
    "\n",
    "@logger\n",
    "def mul(n=100):\n",
    "    mul = 1\n",
    "    for i in range(1, n):\n",
    "        mul = mul * i\n",
    "    return mul\n",
    "\n",
    "if __name__ == '__main__':\n",
    "    result = sum(100)\n",
    "    result2 = mul()\n"
   ]
  },
  {
   "cell_type": "markdown",
   "metadata": {},
   "source": [
    "# Day26 - 一个厨房多人做事"
   ]
  },
  {
   "cell_type": "code",
   "execution_count": 26,
   "metadata": {},
   "outputs": [
    {
     "name": "stdout",
     "output_type": "stream",
     "text": [
      "---------------------------------\n",
      "function main start\n",
      "---------------------------------\n",
      "function down_from_link start\n",
      "---------------------------------\n",
      "function down_from_link start\n",
      " args =  ()\n",
      " kwargs =  {}\n",
      " result = None\n",
      " start_time = 2018-07-30 07:24:31.820757\n",
      " resume = 0.004833 sec\n",
      "function main end\n",
      "---------------------------------\n",
      "<title>ç¾åº¦ä¸ä¸ï¼ä½ å°±ç¥é</title>\n",
      " args =  ('http://www.baidu.com',)\n",
      " kwargs =  {}\n",
      " result = None\n",
      " start_time = 2018-07-30 07:24:31.902147\n",
      " resume = 0.083227 sec\n",
      "function down_from_link end\n",
      "---------------------------------\n",
      "<title>微软 Bing 搜索 - 国内版</title>\n",
      " args =  ('http://www.bing.com',)\n",
      " kwargs =  {}\n",
      " result = None\n",
      " start_time = 2018-07-30 07:24:32.957783\n",
      " resume = 1.141213 sec\n",
      "function down_from_link end\n",
      "---------------------------------\n"
     ]
    }
   ],
   "source": [
    "import threading\n",
    "import requests\n",
    "from bs4 import BeautifulSoup\n",
    "import time\n",
    "from datetime import datetime\n",
    "\n",
    "class myThread (threading.Thread):\n",
    "    def __init__(self, threadID, name, link):\n",
    "        threading.Thread.__init__(self)\n",
    "        self.threadID = threadID\n",
    "        self.name = name\n",
    "        self.link = link\n",
    "    def run(self):\n",
    "        # print (\"开始线程：\" + self.name)\n",
    "        # print_time(self.name, self.counter, 5)\n",
    "        down_from_link(self.link)\n",
    "        # print (\"退出线程：\" + self.name)\n",
    "\n",
    "def logger(fn):\n",
    "    # *args 不可变参数 必须传递\n",
    "    # **kwargs 可变参数 定义了 default 值 比如 n=100\n",
    "    def wrapper(*args, **kwargs):\n",
    "        print('---------------------------------')\n",
    "        print('function %s start' %(fn.__name__))\n",
    "        t_start = time.time()\n",
    "        result = fn(*args, **kwargs)\n",
    "        t_end = time.time()\n",
    "        print(' args = ', args)\n",
    "        print(' kwargs = ', kwargs)\n",
    "        print(' result = %s' % (result))\n",
    "        print(' start_time = %s' % str(datetime.now()))\n",
    "        print(' resume = %.6f sec' % (t_end - t_start))\n",
    "        print('function %s end' %(fn.__name__))\n",
    "        print('---------------------------------')        \n",
    "        return result\n",
    "    return wrapper\n",
    "\n",
    "@logger\n",
    "def down_from_link(link):\n",
    "    data = requests.get(link)\n",
    "    # print(data)\n",
    "    # print(dir(data))\n",
    "    # print(data.text)\n",
    "    text = data.text\n",
    "    bs = BeautifulSoup(text, 'html.parser')\n",
    "    for line in bs.find_all('title'):\n",
    "        print(line)\n",
    "\n",
    "@logger\n",
    "def main():\n",
    "    # download a web page\n",
    "    # down_from_link('http://www.baidu.com')\n",
    "    # down_from_link('http://www.google.com')\n",
    "    # down_from_link('http://www.bing.com')\n",
    "    td1 = myThread(1, \"Thread-1\", 'http://www.bing.com')\n",
    "    td2 = myThread(2, \"Thread-2\", 'http://www.baidu.com')\n",
    "    \n",
    "    td1.start()\n",
    "    td2.start()\n",
    "    \n",
    "if __name__ == '__main__':\n",
    "    main()"
   ]
  },
  {
   "cell_type": "markdown",
   "metadata": {},
   "source": [
    "## Day27 - 认识数据库\n",
    "\n",
    "SQLiteStudio"
   ]
  },
  {
   "cell_type": "markdown",
   "metadata": {},
   "source": [
    "## Day28 - 玩转数据库"
   ]
  },
  {
   "cell_type": "code",
   "execution_count": 29,
   "metadata": {},
   "outputs": [
    {
     "name": "stdout",
     "output_type": "stream",
     "text": [
      "[<Team(TeamId= '43817', name='Iran', code='IRN', rank='36')>, <Team(TeamId= '43819', name='Japan', code='JPN', rank='60')>, <Team(TeamId= '43822', name='Korea Republic', code='KOR', rank='61')>, <Team(TeamId= '43835', name='Saudi Arabia', code='KSA', rank='67')>, <Team(TeamId= '43855', name='Egypt', code='EGY', rank='46')>, <Team(TeamId= '43872', name='Morocco', code='MAR', rank='42')>, <Team(TeamId= '43876', name='Nigeria', code='NGA', rank='47')>, <Team(TeamId= '43879', name='Senegal', code='SEN', rank='28')>, <Team(TeamId= '43888', name='Tunisia', code='TUN', rank='14')>, <Team(TeamId= '43901', name='Costa Rica', code='CRC', rank='25')>, <Team(TeamId= '43911', name='Mexico', code='MEX', rank='15')>, <Team(TeamId= '43914', name='Panama', code='PAN', rank='55')>, <Team(TeamId= '43922', name='Argentina', code='ARG', rank='5')>, <Team(TeamId= '43924', name='Brazil', code='BRA', rank='2')>, <Team(TeamId= '43926', name='Colombia', code='COL', rank='16')>, <Team(TeamId= '43929', name='Peru', code='PER', rank='11')>, <Team(TeamId= '43930', name='Uruguay', code='URU', rank='17')>, <Team(TeamId= '43935', name='Belgium', code='BEL', rank='3')>, <Team(TeamId= '43938', name='Croatia', code='CRO', rank='18')>, <Team(TeamId= '43941', name='Denmark', code='DEN', rank='12')>, <Team(TeamId= '43942', name='England', code='ENG', rank='13')>, <Team(TeamId= '43946', name='France', code='FRA', rank='7')>, <Team(TeamId= '43948', name='Germany', code='GER', rank='1')>, <Team(TeamId= '43951', name='Iceland', code='ISL', rank='22')>, <Team(TeamId= '43954', name='Italy', code='ITA', rank='19')>, <Team(TeamId= '43962', name='Poland', code='POL', rank='10')>, <Team(TeamId= '43963', name='Portugal', code='POR', rank='4')>, <Team(TeamId= '43965', name='Russia', code='RUS', rank='66')>, <Team(TeamId= '43969', name='Spain', code='ESP', rank='8')>, <Team(TeamId= '43970', name='Sweden', code='SWE', rank='23')>, <Team(TeamId= '43971', name='Switzerland', code='SUI', rank='6')>, <Team(TeamId= '43976', name='Australia', code='AUS', rank='40')>, <Team(TeamId= '1902465', name='Serbia', code='SRB', rank='35')>]\n"
     ]
    }
   ],
   "source": [
    "# !/usr/bin/env python3\n",
    "# -*- coding: utf-8 -*-\n",
    "\n",
    "from sqlalchemy.ext.declarative import declarative_base\n",
    "from sqlalchemy import Column, Integer, String\n",
    "from sqlalchemy import create_engine\n",
    "from sqlalchemy.orm import sessionmaker\n",
    "\n",
    "Base = declarative_base()\n",
    "\n",
    "# 定义 Team 类\n",
    "class Team(Base):\n",
    "\n",
    "    __tablename__ = 'teams'\n",
    "\n",
    "    team_id = Column('TeamId', Integer, primary_key=True)\n",
    "    name = Column('Name', String)\n",
    "    code = Column('Code', String)\n",
    "    rank = Column(\"Rank\", Integer)\n",
    "\n",
    "    def __init__(self, id, name, code, rank):\n",
    "        self.team_id =id\n",
    "        self.name = name\n",
    "        self.code = code\n",
    "        self.rank = rank\n",
    "\n",
    "    def __repr__(self):\n",
    "        return \"<Team(TeamId= '%d', name='%s', code='%s', rank='%d')>\" % (self.team_id, self.name, self.code, self.rank)\n",
    "\n",
    "# 初始化数据库的连接\n",
    "engine = create_engine('sqlite:///worldcup_practice/world_cup.db')\n",
    "Session = sessionmaker(bind=engine)\n",
    "session = Session()\n",
    "\n",
    "# 读取所有的 team 信息\n",
    "teams = session.query(Team).all()\n",
    "print(teams)\n",
    "\n",
    "# 增加一个新的 team 进入数据库\n",
    "italy = Team(43954, \"Italy\", \"ITA\", 19)\n",
    "# session.add(italy)\n",
    "# session.commit()\n",
    "# session.close()"
   ]
  },
  {
   "cell_type": "code",
   "execution_count": null,
   "metadata": {},
   "outputs": [],
   "source": []
  }
 ],
 "metadata": {
  "kernelspec": {
   "display_name": "Python 3",
   "language": "python",
   "name": "python3"
  },
  "language_info": {
   "codemirror_mode": {
    "name": "ipython",
    "version": 3
   },
   "file_extension": ".py",
   "mimetype": "text/x-python",
   "name": "python",
   "nbconvert_exporter": "python",
   "pygments_lexer": "ipython3",
   "version": "3.6.0"
  }
 },
 "nbformat": 4,
 "nbformat_minor": 2
}
