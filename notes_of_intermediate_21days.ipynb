{
 "cells": [
  {
   "cell_type": "markdown",
   "metadata": {},
   "source": [
    "# Day22 代码简洁 & Lambda & 异常"
   ]
  },
  {
   "cell_type": "markdown",
   "metadata": {},
   "source": [
    "## lamdba 函数\n",
    "\n",
    "- [Python3 filter() 函数 | 菜鸟教程](http://www.runoob.com/python3/python3-func-filter.html)"
   ]
  },
  {
   "cell_type": "code",
   "execution_count": 7,
   "metadata": {},
   "outputs": [
    {
     "name": "stdout",
     "output_type": "stream",
     "text": [
      "[1, 3, 5, 7, 9]\n"
     ]
    }
   ],
   "source": [
    "def is_odd(n):\n",
    "    return n % 2 == 1\n",
    "\n",
    "tmplist = filter(is_odd, [1, 2, 3, 4, 5, 6, 7, 8, 9, 10])\n",
    "newlist = list(tmplist)\n",
    "print(newlist)"
   ]
  },
  {
   "cell_type": "code",
   "execution_count": 5,
   "metadata": {},
   "outputs": [
    {
     "name": "stdout",
     "output_type": "stream",
     "text": [
      "[1, 3, 5, 7, 9]\n"
     ]
    }
   ],
   "source": [
    "tmplist = filter(lambda n: n % 2 == 1, [1, 2, 3, 4, 5, 6, 7, 8, 9, 10])\n",
    "newlist = list(tmplist)\n",
    "print(newlist)"
   ]
  },
  {
   "cell_type": "code",
   "execution_count": 12,
   "metadata": {},
   "outputs": [
    {
     "name": "stdout",
     "output_type": "stream",
     "text": [
      "[1, 4, 9, 16, 25, 36, 49, 64, 81, 100]\n"
     ]
    }
   ],
   "source": [
    "import math\n",
    "def is_sqr(x):\n",
    "    return math.sqrt(x) % 1 == 0\n",
    "\n",
    "tmplist = filter(is_sqr, range(1, 101))\n",
    "newlist = list(tmplist)\n",
    "print(newlist)"
   ]
  },
  {
   "cell_type": "code",
   "execution_count": 13,
   "metadata": {},
   "outputs": [
    {
     "name": "stdout",
     "output_type": "stream",
     "text": [
      "[1, 4, 9, 16, 25, 36, 49, 64, 81, 100]\n"
     ]
    }
   ],
   "source": [
    "import math\n",
    "\n",
    "tmplist = filter(lambda x: math.sqrt(x) % 1 == 0, range(1, 101))\n",
    "newlist = list(tmplist)\n",
    "print(newlist)"
   ]
  },
  {
   "cell_type": "markdown",
   "metadata": {},
   "source": [
    "## 异常处理\n",
    "\n",
    "- [Python3 错误和异常 | 菜鸟教程](http://www.runoob.com/python3/python3-errors-execptions.html)"
   ]
  },
  {
   "cell_type": "code",
   "execution_count": 15,
   "metadata": {},
   "outputs": [
    {
     "name": "stdout",
     "output_type": "stream",
     "text": [
      "result is 2.0\n",
      "executing finally clause\n",
      "result is 1.2\n",
      "executing finally clause\n",
      "division by zero!\n",
      "executing finally clause\n"
     ]
    }
   ],
   "source": [
    "def divide(x, y):\n",
    "    try:\n",
    "        result = x / y\n",
    "    except ZeroDivisionError:\n",
    "        print('division by zero!')\n",
    "    else:\n",
    "        print('result is', result)\n",
    "    finally:\n",
    "        print(\"executing finally clause\")\n",
    "            \n",
    "divide(6, 3)\n",
    "divide(6, 5)\n",
    "divide(6, 0)"
   ]
  },
  {
   "cell_type": "code",
   "execution_count": 18,
   "metadata": {},
   "outputs": [
    {
     "name": "stdout",
     "output_type": "stream",
     "text": [
      "except maybe happen\n",
      "except happen\n",
      "always execute\n"
     ]
    }
   ],
   "source": [
    "try:\n",
    "    print('except maybe happen')\n",
    "    open('file.txt', 'r+')\n",
    "except Exception as e:\n",
    "    print('except happen')\n",
    "finally:\n",
    "    print('always execute')"
   ]
  },
  {
   "cell_type": "markdown",
   "metadata": {},
   "source": [
    "## 变量命名\n",
    "\n",
    "- [styleguide/pyguide.md at gh-pages · google/styleguide](https://github.com/google/styleguide/blob/gh-pages/pyguide.md)\n",
    "    - `module_name`\n",
    "    - `package_name`\n",
    "    - `ClassName`\n",
    "    - `method_name`\n",
    "    - `ExceptionName`\n",
    "    - `function_name`\n",
    "    - `GLOBAL_CONSTANT_NAME`\n",
    "    - `global_var_name`\n",
    "    - `instance_var_name`\n",
    "    - `function_parameter_name`\n",
    "    - `local_var_name`"
   ]
  },
  {
   "cell_type": "markdown",
   "metadata": {},
   "source": [
    "## Day23 - 用 Python 处理 Excel"
   ]
  },
  {
   "cell_type": "code",
   "execution_count": 23,
   "metadata": {},
   "outputs": [
    {
     "name": "stdout",
     "output_type": "stream",
     "text": [
      "['team_info', 'matches']\n"
     ]
    }
   ],
   "source": [
    "from openpyxl import load_workbook\n",
    "\n",
    "# 读取 excel 文件\n",
    "workbook = load_workbook('worldcup_practice/fifa_world_cup.xlsx')\n",
    "# print(workbook.get_sheet_names())\n",
    "print(workbook.sheetnames)\n",
    "\n",
    "# 找到相应的 worksheet\n",
    "worksheet = workbook['team_info']\n",
    "\n",
    "# 找到对应国家所在的行\n",
    "column_name = worksheet['B']\n",
    "for cell in column_name:\n",
    "    if cell.value == 'Russia':\n",
    "        row_index = cell.row\n",
    "        worksheet['E' + str(row_index)] = 1\n",
    "    if cell.value == 'Saudi Arabia':\n",
    "        row_index = cell.row\n",
    "        cell_target = worksheet.cell(column = 7, row = row_index)\n",
    "        cell_target.value = 1\n",
    "\n",
    "# 保存文件\n",
    "workbook.save('worldcup_practice/fifa_world_cup.xlsx')"
   ]
  },
  {
   "cell_type": "markdown",
   "metadata": {},
   "source": [
    "# Day24 - 面向对象编程"
   ]
  },
  {
   "cell_type": "code",
   "execution_count": 3,
   "metadata": {},
   "outputs": [
    {
     "name": "stdout",
     "output_type": "stream",
     "text": [
      "Cristiano Ronaldo\n",
      "Name: Manuel Neuer\n",
      "Cristiano Ronaldo shoots middle\n",
      "Manuel Neuer saves middle\n",
      "What a save!\n"
     ]
    }
   ],
   "source": [
    "# !usr/bin/env python3\n",
    "# -*- coding: utf-8 -*-\n",
    "\n",
    "import random\n",
    "\n",
    "class Shooter:\n",
    "\n",
    "    def __init__(self, name):\n",
    "        self.name = name\n",
    "\n",
    "    def display_name(self):\n",
    "        print(\"Name: %s\" % self.name)\n",
    "\n",
    "    def shoot(self):\n",
    "        flag = random.randint(0, 2)\n",
    "        if flag == 0:\n",
    "            direction = \"left\"\n",
    "        elif flag == 1:\n",
    "            direction = \"middle\"\n",
    "        else:\n",
    "            direction = \"right\"\n",
    "\n",
    "        print(\"%s shoots %s\" % (self.name, direction))\n",
    "        return direction\n",
    "\n",
    "\n",
    "class Goalkeeper:\n",
    "\n",
    "    def __init__(self, name):\n",
    "        self.name = name\n",
    "\n",
    "    def display_name(self):\n",
    "        print(\"Name: %s\" % self.name)\n",
    "\n",
    "    def save(self):\n",
    "        flag = random.randint(0, 2)\n",
    "        if flag == 0:\n",
    "            direction = \"left\"\n",
    "        elif flag == 1:\n",
    "            direction = \"middle\"\n",
    "        else:\n",
    "            direction = \"right\"\n",
    "\n",
    "        print(\"%s saves %s\" % (self.name, direction))\n",
    "        return direction\n",
    "\n",
    "kicker = Shooter(\"Cristiano Ronaldo\")\n",
    "keeper = Goalkeeper(\"Manuel Neuer\")\n",
    "print(kicker.name)\n",
    "keeper.display_name()\n",
    "if kicker.shoot() == keeper.save():\n",
    "    print(\"What a save!\")\n",
    "else:\n",
    "    print(\"What a goal!\")"
   ]
  },
  {
   "cell_type": "code",
   "execution_count": 32,
   "metadata": {},
   "outputs": [
    {
     "name": "stdout",
     "output_type": "stream",
     "text": [
      "Cristiano Ronaldo\n",
      "Name : Cristiano Ronaldo\n",
      "Cristiano Ronaldo shoots left side!\n",
      "Cristiano Ronaldo Total Shooter: 1\n",
      "Total Shooter: 1\n",
      "Cristiano Ronaldo shoots right side!\n",
      "Cristiano Ronaldo shoots left side!\n",
      "Cristiano Ronaldo Total Shooter: 3\n",
      "A shoots left side!\n",
      "A Total Shooter: 1\n",
      "Total Shooter: 4\n"
     ]
    }
   ],
   "source": [
    "# 类的名字\n",
    "class Shooter:\n",
    "    \n",
    "    # 类变量, 所有实例共享\n",
    "    shooter_count = 0\n",
    "    \n",
    "    # 构造函数(初始化方法),\n",
    "    # 可以初始化一些数据成员\n",
    "    def __init__(self, name):\n",
    "        self.name = name\n",
    "        self.count = 0\n",
    "        # Shooter.shooter_count += 1\n",
    "        \n",
    "    # 静态方法, 不需要实例就可以使用\n",
    "    @staticmethod\n",
    "    def display_shooter_count():\n",
    "        print(\"Total Shooter: %d\" % Shooter.shooter_count)\n",
    "     \n",
    "    # 类的方法, 有实例才能调用\n",
    "    def display_name(self):\n",
    "        print(\"Name :\", self.name)\n",
    "        \n",
    "    def shoot(self, direction):\n",
    "        print(\"%s shoots %s side!\" % (self.name, direction))\n",
    "        self.count += 1\n",
    "        Shooter.shooter_count += 1\n",
    "        \n",
    "    def display_count(self):\n",
    "        print(\"%s Total Shooter: %d\" % (self.name, self.count))\n",
    "        \n",
    "kicker = Shooter(\"Cristiano Ronaldo\")\n",
    "print(kicker.name)\n",
    "kicker.display_name()\n",
    "kicker.shoot(\"left\")\n",
    "kicker.display_count()\n",
    "Shooter.display_shooter_count()\n",
    "kicker.shoot(\"right\")\n",
    "kicker.shoot(\"left\")\n",
    "kicker.display_count()\n",
    "kicker_a = Shooter(\"A\")\n",
    "kicker_a.shoot(\"left\")\n",
    "kicker_a.display_count()\n",
    "Shooter.display_shooter_count()"
   ]
  },
  {
   "cell_type": "markdown",
   "metadata": {},
   "source": [
    "# Day25 - 装饰器装饰了你的窗子"
   ]
  },
  {
   "cell_type": "code",
   "execution_count": 28,
   "metadata": {},
   "outputs": [
    {
     "name": "stdout",
     "output_type": "stream",
     "text": [
      "hello, foo\n",
      "i am foo\n",
      "goodbye, foo\n"
     ]
    }
   ],
   "source": [
    "# 定义装饰器\n",
    "def hello(fn):\n",
    "    def wrapper():\n",
    "        print(\"hello, %s\" % fn.__name__)\n",
    "        fn()\n",
    "        print(\"goodbye, %s\" % fn.__name__)\n",
    "    # wrapper 不要加括号\n",
    "    return wrapper\n",
    "\n",
    "# 使用装饰器\n",
    "@hello\n",
    "# 被装饰的函数\n",
    "def foo():\n",
    "    print(\"i am foo\")\n",
    "    \n",
    "if __name__ == '__main__':\n",
    "    foo()"
   ]
  },
  {
   "cell_type": "code",
   "execution_count": 40,
   "metadata": {},
   "outputs": [
    {
     "name": "stdout",
     "output_type": "stream",
     "text": [
      "---------------------------------\n",
      "function sum start\n",
      " args =  (100,)\n",
      " kwargs =  {}\n",
      " result = 4950\n",
      " start_time = 2018-07-29 08:13:05.591306\n",
      " resume = 0.000012 sec\n",
      "function sum end\n",
      "---------------------------------\n",
      "---------------------------------\n",
      "function mul start\n",
      " args =  ()\n",
      " kwargs =  {}\n",
      " result = 933262154439441526816992388562667004907159682643816214685929638952175999932299156089414639761565182862536979208272237582511852109168640000000000000000000000\n",
      " start_time = 2018-07-29 08:13:05.592492\n",
      " resume = 0.000021 sec\n",
      "function mul end\n",
      "---------------------------------\n"
     ]
    }
   ],
   "source": [
    "import time\n",
    "from datetime import datetime\n",
    "\n",
    "def logger(fn):\n",
    "    # *args 不可变参数 必须传递\n",
    "    # **kwargs 可变参数 定义了 default 值 比如 n=100\n",
    "    def wrapper(*args, **kwargs):\n",
    "        print('---------------------------------')\n",
    "        print('function %s start' %(fn.__name__))\n",
    "        t_start = time.time()\n",
    "        result = fn(*args, **kwargs)\n",
    "        t_end = time.time()\n",
    "        print(' args = ', args)\n",
    "        print(' kwargs = ', kwargs)\n",
    "        print(' result = %s' % (result))\n",
    "        print(' start_time = %s' % str(datetime.now()))\n",
    "        print(' resume = %.6f sec' % (t_end - t_start))\n",
    "        print('function %s end' %(fn.__name__))\n",
    "        print('---------------------------------')        \n",
    "        return result\n",
    "    return wrapper\n",
    "\n",
    "@logger\n",
    "def sum(n):\n",
    "    sum = 0\n",
    "    for i in range(1, n):\n",
    "        sum = sum + i\n",
    "    return sum\n",
    "\n",
    "@logger\n",
    "def mul(n=100):\n",
    "    mul = 1\n",
    "    for i in range(1, n):\n",
    "        mul = mul * i\n",
    "    return mul\n",
    "\n",
    "if __name__ == '__main__':\n",
    "    result = sum(100)\n",
    "    result2 = mul()\n"
   ]
  },
  {
   "cell_type": "code",
   "execution_count": null,
   "metadata": {},
   "outputs": [],
   "source": []
  }
 ],
 "metadata": {
  "kernelspec": {
   "display_name": "Python 3",
   "language": "python",
   "name": "python3"
  },
  "language_info": {
   "codemirror_mode": {
    "name": "ipython",
    "version": 3
   },
   "file_extension": ".py",
   "mimetype": "text/x-python",
   "name": "python",
   "nbconvert_exporter": "python",
   "pygments_lexer": "ipython3",
   "version": "3.6.0"
  }
 },
 "nbformat": 4,
 "nbformat_minor": 2
}
